{
 "cells": [
  {
   "cell_type": "markdown",
   "metadata": {},
   "source": [
    "# Supervised Learning\n",
    "Supervised learning involves training a machine learning model on labeled data, where the input data (features) are paired with the correct output (target). The model learns to predict outputs based on new inputs.\n",
    "\n",
    "Classification: Algorithms that categorize data into predefined classes or labels (e.g., spam or not spam).\n",
    "\n",
    "Regression: Algorithms that predict continuous values (e.g., predicting house prices)"
   ]
  },
  {
   "cell_type": "markdown",
   "metadata": {},
   "source": [
    "# Linear Regression\n",
    "A regression algorithm used to predict a continuous target based on the linear relationship between the input variables (features) and the target.\n",
    "\n",
    "Formula: y=a+bx\n",
    "\n",
    "(where y is the dependent variable, x is the independent variable, a is the intercept, and b is the slope of regression line.)"
   ]
  },
  {
   "cell_type": "code",
   "execution_count": 1,
   "metadata": {},
   "outputs": [],
   "source": [
    "import numpy as np\n",
    "import pandas as pd"
   ]
  },
  {
   "cell_type": "code",
   "execution_count": 2,
   "metadata": {},
   "outputs": [
    {
     "data": {
      "text/plain": [
       "0.6334779105328128"
      ]
     },
     "execution_count": 2,
     "metadata": {},
     "output_type": "execute_result"
    }
   ],
   "source": [
    "from sklearn.preprocessing import LabelEncoder\n",
    "from sklearn.model_selection import train_test_split\n",
    "from sklearn.linear_model import LinearRegression\n",
    "from sklearn.metrics import r2_score\n",
    "\n",
    "df=pd.read_csv(\"C:\\\\Users\\\\Pooja Sambhwani\\\\Machine Learning (Regex)\\\\Datasets\\\\tips.csv\")\n",
    "\n",
    "df = df.dropna()\n",
    "\n",
    "lb = LabelEncoder()\n",
    "df['sex'] = lb.fit_transform(df['sex'])\n",
    "df['smoker'] = lb.fit_transform(df['smoker'])\n",
    "df['day'] = lb.fit_transform(df['day'])\n",
    "df['time'] = lb.fit_transform(df['time'])\n",
    "\n",
    "x = df.drop(columns = ['total_bill'], axis = 1) # Input Data\n",
    "y = df['total_bill'] # Target Data\n",
    "\n",
    "x_train, x_test, y_train, y_test = train_test_split(x,y,test_size = 0.2, random_state = 42)\n",
    "\n",
    "lr = LinearRegression()\n",
    "lr.fit(x_train, y_train)\n",
    "y_pred = lr.predict(x_test)\n",
    "r2_score(y_test, y_pred)"
   ]
  },
  {
   "cell_type": "markdown",
   "metadata": {},
   "source": [
    "# Logistic Regression\n",
    "A classification algorithm used to predict the probability of categorical outcomes (binary or multiclass).\n",
    "\n",
    "Formula (for binary classification): P(y=1∣x)= 1/(1+e^(-a+bx))"
   ]
  },
  {
   "cell_type": "code",
   "execution_count": 3,
   "metadata": {},
   "outputs": [
    {
     "data": {
      "text/plain": [
       "0.7375"
      ]
     },
     "execution_count": 3,
     "metadata": {},
     "output_type": "execute_result"
    }
   ],
   "source": [
    "from sklearn.linear_model import LogisticRegression\n",
    "from sklearn.metrics import accuracy_score\n",
    "\n",
    "ds=pd.read_csv(\"C:\\\\Users\\\\Pooja Sambhwani\\\\Machine Learning (Regex)\\\\Datasets\\\\Social_Network_Ads.csv\")\n",
    "\n",
    "ds = ds.dropna()\n",
    "\n",
    "lb = LabelEncoder()\n",
    "ds['Gender'] = lb.fit_transform(ds['Gender'])\n",
    "\n",
    "X = ds.drop(columns = ['Purchased'], axis = 1) # Input Data\n",
    "Y = ds['Purchased'] # Target Data\n",
    "\n",
    "X_train, X_test, Y_train, Y_test = train_test_split(X,Y,test_size = 0.2, random_state = 42)\n",
    "\n",
    "lg = LogisticRegression()\n",
    "lg.fit(X_train, Y_train)\n",
    "Y_pred = lg.predict(X_test)\n",
    "accuracy_score(Y_test, Y_pred)"
   ]
  },
  {
   "cell_type": "markdown",
   "metadata": {},
   "source": [
    "# Decision Trees\n",
    "A model that splits data into branches based on feature values to make a prediction."
   ]
  },
  {
   "cell_type": "code",
   "execution_count": 4,
   "metadata": {},
   "outputs": [
    {
     "data": {
      "text/plain": [
       "0.39734746290025846"
      ]
     },
     "execution_count": 4,
     "metadata": {},
     "output_type": "execute_result"
    }
   ],
   "source": [
    "from sklearn.tree import DecisionTreeRegressor\n",
    "\n",
    "dt = DecisionTreeRegressor()\n",
    "dt.fit(x_train, y_train)\n",
    "y_pred = dt.predict(x_test)\n",
    "r2_score(y_test, y_pred)"
   ]
  },
  {
   "cell_type": "code",
   "execution_count": 5,
   "metadata": {},
   "outputs": [
    {
     "data": {
      "text/plain": [
       "0.9"
      ]
     },
     "execution_count": 5,
     "metadata": {},
     "output_type": "execute_result"
    }
   ],
   "source": [
    "from sklearn.tree import DecisionTreeClassifier\n",
    "\n",
    "dc = DecisionTreeClassifier()\n",
    "dc.fit(X_train, Y_train)\n",
    "Y_pred = dc.predict(X_test)\n",
    "accuracy_score(Y_test, Y_pred)"
   ]
  },
  {
   "cell_type": "markdown",
   "metadata": {},
   "source": [
    "# Random Forests\n",
    "An ensemble of decision trees where each tree is trained on a random subset of the data and features, and the final prediction is an average or majority vote."
   ]
  },
  {
   "cell_type": "code",
   "execution_count": 6,
   "metadata": {},
   "outputs": [
    {
     "data": {
      "text/plain": [
       "0.518631461190191"
      ]
     },
     "execution_count": 6,
     "metadata": {},
     "output_type": "execute_result"
    }
   ],
   "source": [
    "from sklearn.ensemble import RandomForestRegressor\n",
    "\n",
    "rf = RandomForestRegressor()\n",
    "rf.fit(x_train, y_train)\n",
    "y_pred = rf.predict(x_test)\n",
    "r2_score(y_test, y_pred)"
   ]
  },
  {
   "cell_type": "code",
   "execution_count": 7,
   "metadata": {},
   "outputs": [
    {
     "data": {
      "text/plain": [
       "0.9375"
      ]
     },
     "execution_count": 7,
     "metadata": {},
     "output_type": "execute_result"
    }
   ],
   "source": [
    "from sklearn.ensemble import RandomForestClassifier\n",
    "\n",
    "rc = RandomForestClassifier()\n",
    "rc.fit(X_train, Y_train)\n",
    "Y_pred = rc.predict(X_test)\n",
    "accuracy_score(Y_test, Y_pred)"
   ]
  },
  {
   "cell_type": "markdown",
   "metadata": {},
   "source": [
    "# Naive Bayes\n",
    "A probabilistic classifier based on Bayes’ Theorem, assuming independence between features.\n",
    "\n",
    "Formula: P(y∣X)= P(X∣y)P(y) / P(X)"
   ]
  },
  {
   "cell_type": "code",
   "execution_count": 8,
   "metadata": {},
   "outputs": [
    {
     "name": "stdout",
     "output_type": "stream",
     "text": [
      "Confusion Matrix:\n",
      " [[48  2]\n",
      " [ 5 25]]\n",
      "Accuracy: 0.9125\n",
      "Precision: 0.9259259259259259\n",
      "Recall: 0.8333333333333334\n",
      "F1 Score: 0.8771929824561403\n"
     ]
    }
   ],
   "source": [
    "from sklearn.preprocessing import StandardScaler\n",
    "from sklearn.naive_bayes import GaussianNB\n",
    "from sklearn.metrics import confusion_matrix\n",
    "from sklearn.metrics import precision_score\n",
    "from sklearn.metrics import recall_score\n",
    "from sklearn.metrics import f1_score\n",
    "\n",
    "df1=pd.read_csv(\"C:\\\\Users\\\\Pooja Sambhwani\\\\Machine Learning (Regex)\\\\Datasets\\\\Social_Network_Ads.csv\", \n",
    "              usecols = ['Age', 'EstimatedSalary', 'Purchased'])\n",
    "\n",
    "a = df1.drop(columns = ['Purchased'], axis=1) # Independent Column\n",
    "b = df1['Purchased'] # Dependent Column\n",
    "\n",
    "a_train, a_test, b_train, b_test = train_test_split(a,b, test_size = 0.2, random_state=23)\n",
    "\n",
    "sc = StandardScaler()\n",
    "a_train_new = sc.fit_transform(a_train)\n",
    "a_test_new = sc.transform(a_test)\n",
    "\n",
    "# Train Naive Bayes\n",
    "classifier = GaussianNB()\n",
    "classifier.fit(a_train_new, b_train)\n",
    "\n",
    "# Predict\n",
    "b_pred = classifier.predict(a_test_new)\n",
    "print(\"Confusion Matrix:\\n\", confusion_matrix(b_test, b_pred))\n",
    "print(\"Accuracy:\", accuracy_score(b_test, b_pred))\n",
    "print(\"Precision:\", precision_score(b_test, b_pred))\n",
    "print(\"Recall:\", recall_score(b_test, b_pred))\n",
    "print(\"F1 Score:\", f1_score(b_test, b_pred))"
   ]
  },
  {
   "cell_type": "markdown",
   "metadata": {},
   "source": [
    "# K-Nearest Neighbors (KNN)\n",
    "\n",
    "KNN is a distance-based classification algorithm that assigns a class based on the majority label of the nearest neighbors (K) in the feature space."
   ]
  },
  {
   "cell_type": "code",
   "execution_count": 9,
   "metadata": {},
   "outputs": [
    {
     "name": "stdout",
     "output_type": "stream",
     "text": [
      "Confusion Matrix:\n",
      " [[45  5]\n",
      " [ 3 27]]\n",
      "Accuracy: 0.9\n",
      "Classification Report:\n",
      "               precision    recall  f1-score   support\n",
      "\n",
      "           0       0.94      0.90      0.92        50\n",
      "           1       0.84      0.90      0.87        30\n",
      "\n",
      "    accuracy                           0.90        80\n",
      "   macro avg       0.89      0.90      0.89        80\n",
      "weighted avg       0.90      0.90      0.90        80\n",
      "\n"
     ]
    }
   ],
   "source": [
    "from sklearn.neighbors import KNeighborsClassifier\n",
    "from sklearn.metrics import classification_report\n",
    "\n",
    "df1=pd.read_csv(\"C:\\\\Users\\\\Pooja Sambhwani\\\\Machine Learning (Regex)\\\\Datasets\\\\Social_Network_Ads.csv\", \n",
    "              usecols = ['Age', 'EstimatedSalary', 'Purchased'])\n",
    "\n",
    "a = df1.drop(columns = ['Purchased'], axis=1) # Independent Column\n",
    "b = df1['Purchased'] # Dependent Column\n",
    "\n",
    "a_train, a_test, b_train, b_test = train_test_split(a,b, test_size = 0.2, random_state=23)\n",
    "\n",
    "sc = StandardScaler()\n",
    "a_train_new = sc.fit_transform(a_train)\n",
    "a_test_new = sc.transform(a_test)\n",
    "\n",
    "# Applying the KNN classifier\n",
    "knn = KNeighborsClassifier(n_neighbors=5)\n",
    "knn.fit(a_train_new, b_train)\n",
    "\n",
    "# Making predictions\n",
    "b_pred = knn.predict(a_test_new)\n",
    "\n",
    "# Evaluating the model\n",
    "print(\"Confusion Matrix:\\n\", confusion_matrix(b_test, b_pred))\n",
    "print(\"Accuracy:\", accuracy_score(b_test, b_pred))\n",
    "print(\"Classification Report:\\n\", classification_report(b_test, b_pred))"
   ]
  },
  {
   "cell_type": "markdown",
   "metadata": {},
   "source": [
    "# Support Vector Machines (SVM)\n",
    "\n",
    "A classification algorithm that finds a hyperplane in a high-dimensional space to separate classes with the maximum margin."
   ]
  },
  {
   "cell_type": "code",
   "execution_count": 10,
   "metadata": {},
   "outputs": [
    {
     "name": "stderr",
     "output_type": "stream",
     "text": [
      "Matplotlib is building the font cache; this may take a moment.\n"
     ]
    },
    {
     "name": "stdout",
     "output_type": "stream",
     "text": [
      "Accuracy: 0.9\n"
     ]
    },
    {
     "data": {
      "image/png": "[encoded data removed]",
      "text/plain": [
       "<Figure size 432x288 with 1 Axes>"
      ]
     },
     "metadata": {
      "needs_background": "light"
     },
     "output_type": "display_data"
    }
   ],
   "source": [
    "import matplotlib.pyplot as plt\n",
    "from sklearn import datasets\n",
    "from sklearn.svm import SVC\n",
    "\n",
    "# Load the Iris dataset\n",
    "iris = datasets.load_iris()\n",
    "X = iris.data[:, :2]  # Consider only the first two features: sepal length and width\n",
    "y = iris.target\n",
    "\n",
    "# Split the data into training and test sets\n",
    "X_train, X_test, y_train, y_test = train_test_split(X, y, test_size=0.2, random_state=42)\n",
    "\n",
    "# Create an SVM classifier with a linear kernel\n",
    "svc = SVC(kernel='linear')\n",
    "\n",
    "# Train the classifier on the training data\n",
    "svc.fit(X_train, y_train)\n",
    "\n",
    "# Make predictions on the test data\n",
    "predictions = svc.predict(X_test)\n",
    "\n",
    "# Evaluate the accuracy of the classifier\n",
    "accuracy = accuracy_score(y_test, predictions)\n",
    "print(\"Accuracy:\", accuracy)\n",
    "\n",
    "# Plot the decision boundary\n",
    "x_min, x_max = X[:, 0].min() - 0.5, X[:, 0].max() + 0.5\n",
    "y_min, y_max = X[:, 1].min() - 0.5, X[:, 1].max() + 0.5\n",
    "\n",
    "x,y = np.meshgrid(np.arange(x_min, x_max, 0.02),\n",
    "                     np.arange(y_min, y_max, 0.02))\n",
    "\n",
    "Z = svc.predict(np.c_[x.ravel(), y.ravel()])\n",
    "Z = Z.reshape(x.shape)\n",
    "\n",
    "plt.contourf(x, y, Z, cmap=plt.cm.Paired, alpha=0.8)\n",
    "\n",
    "# Plot the training points\n",
    "plt.scatter(X_train[:, 0], X_train[:, 1], c=y_train, cmap=plt.cm.Paired, edgecolors='k')\n",
    "# Plot the test points\n",
    "plt.scatter(X_test[:, 0], X_test[:, 1], c=y_test, cmap=plt.cm.Paired, marker='x')\n",
    "\n",
    "plt.xlabel('Sepal length')\n",
    "plt.ylabel('Sepal width')\n",
    "plt.title('SVM Decision Boundary for Iris Dataset')\n",
    "plt.show()"
   ]
  }
 ],
 "metadata": {
  "kernelspec": {
   "display_name": "Python 3",
   "language": "python",
   "name": "python3"
  },
  "language_info": {
   "codemirror_mode": {
    "name": "ipython",
    "version": 3
   },
   "file_extension": ".py",
   "mimetype": "text/x-python",
   "name": "python",
   "nbconvert_exporter": "python",
   "pygments_lexer": "ipython3",
   "version": "3.8.3"
  }
 },
 "nbformat": 4,
 "nbformat_minor": 4
}
