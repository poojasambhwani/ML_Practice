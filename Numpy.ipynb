{
 "cells": [
  {
   "cell_type": "code",
   "execution_count": 1,
   "metadata": {},
   "outputs": [],
   "source": [
    "# NumPy is a library for numerical computing in Python. \n",
    "# It is used for working with arrays, matrices, and performing mathematical operations on large datasets efficiently.\n",
    "# NumPy Arrays can be created using array(), zeros(), ones(), arange(), linspace(), and random functions like random.rand(),etc."
   ]
  },
  {
   "cell_type": "markdown",
   "metadata": {},
   "source": [
    "# Questions on NumPy"
   ]
  },
  {
   "cell_type": "code",
   "execution_count": 2,
   "metadata": {},
   "outputs": [],
   "source": [
    "import numpy as np"
   ]
  },
  {
   "cell_type": "code",
   "execution_count": 3,
   "metadata": {},
   "outputs": [
    {
     "data": {
      "text/plain": [
       "array([10, 11, 12, 13, 14, 15, 16, 17, 18, 19, 20, 21, 22, 23, 24, 25, 26,\n",
       "       27, 28, 29, 30, 31, 32, 33, 34, 35, 36, 37, 38, 39, 40, 41, 42, 43,\n",
       "       44, 45, 46, 47, 48, 49, 50])"
      ]
     },
     "execution_count": 3,
     "metadata": {},
     "output_type": "execute_result"
    }
   ],
   "source": [
    "# 1.  Create a 1D NumPy array of integers from 10 to 50.\n",
    "\n",
    "a = np.arange(10,51)\n",
    "a"
   ]
  },
  {
   "cell_type": "code",
   "execution_count": 4,
   "metadata": {},
   "outputs": [
    {
     "data": {
      "text/plain": [
       "array([[ 0,  1,  2,  3,  4],\n",
       "       [ 5,  6,  7,  8,  9],\n",
       "       [10, 11, 12, 13, 14],\n",
       "       [15, 16, 17, 18, 19],\n",
       "       [20, 21, 22, 23, 24]])"
      ]
     },
     "execution_count": 4,
     "metadata": {},
     "output_type": "execute_result"
    }
   ],
   "source": [
    "# 2.  Create a 5x5 matrix with values from 0 to 24.\n",
    "\n",
    "a1 = np.arange(0,25).reshape(5,5)\n",
    "a1"
   ]
  },
  {
   "cell_type": "code",
   "execution_count": 5,
   "metadata": {},
   "outputs": [
    {
     "data": {
      "text/plain": [
       "array([0.47900618, 0.19777037, 0.90181503, 0.3389238 , 0.51237993,\n",
       "       0.00694453, 0.31544144, 0.98788479, 0.90912784, 0.25367981])"
      ]
     },
     "execution_count": 5,
     "metadata": {},
     "output_type": "execute_result"
    }
   ],
   "source": [
    "# 3.  Generate a NumPy array of 10 random numbers between 0 and 1.\n",
    "\n",
    "a = np.random.rand(10)\n",
    "a"
   ]
  },
  {
   "cell_type": "code",
   "execution_count": 6,
   "metadata": {},
   "outputs": [
    {
     "data": {
      "text/plain": [
       "array([[ 0,  1,  2],\n",
       "       [ 3,  4,  5],\n",
       "       [ 6,  7,  8],\n",
       "       [ 9, 10, 11]])"
      ]
     },
     "execution_count": 6,
     "metadata": {},
     "output_type": "execute_result"
    }
   ],
   "source": [
    "# 4.  Reshape a 1D array of 12 elements into a 4x3 array.\n",
    "\n",
    "b = np.arange(12).reshape(4,3)\n",
    "b"
   ]
  },
  {
   "cell_type": "code",
   "execution_count": 7,
   "metadata": {},
   "outputs": [
    {
     "data": {
      "text/plain": [
       "(130, 26.0, 14.25482374496437)"
      ]
     },
     "execution_count": 7,
     "metadata": {},
     "output_type": "execute_result"
    }
   ],
   "source": [
    "# 5.  Find the sum, mean, and standard deviation of the elements of an array.\n",
    "\n",
    "arr = np.array([12, 20, 34, 14, 50])\n",
    "s = np.sum(arr)\n",
    "m = np.mean(arr)\n",
    "std = np.std(arr)\n",
    "s,m,std"
   ]
  },
  {
   "cell_type": "code",
   "execution_count": 8,
   "metadata": {},
   "outputs": [
    {
     "data": {
      "text/plain": [
       "array([[ 35,  68,  70],\n",
       "       [ 98, 113, 118],\n",
       "       [ 81, 102,  90]])"
      ]
     },
     "execution_count": 8,
     "metadata": {},
     "output_type": "execute_result"
    }
   ],
   "source": [
    "# 6.  Multiply two 3x3 matrices.\n",
    "\n",
    "m1 = np.array([[5, 2, 3], \n",
    "                [4, 9, 6], \n",
    "                [7, 8, 1]])\n",
    "\n",
    "m2 = np.array([[2, 8, 7], \n",
    "                [8, 5, 4], \n",
    "                [3, 6, 9]])\n",
    "\n",
    "a = np.dot(m1, m2)\n",
    "a"
   ]
  },
  {
   "cell_type": "code",
   "execution_count": 9,
   "metadata": {},
   "outputs": [
    {
     "data": {
      "text/plain": [
       "array([[7, 1, 9],\n",
       "       [3, 8, 6],\n",
       "       [4, 2, 5]])"
      ]
     },
     "execution_count": 9,
     "metadata": {},
     "output_type": "execute_result"
    }
   ],
   "source": [
    "# 7.  Reverse the rows of a 2D NumPy array.\n",
    "\n",
    "a = np.array([[4, 2, 5], \n",
    "            [3, 8, 6], \n",
    "            [7, 1, 9]])\n",
    "\n",
    "rev = a[::-1]\n",
    "rev"
   ]
  },
  {
   "cell_type": "code",
   "execution_count": 10,
   "metadata": {},
   "outputs": [
    {
     "data": {
      "text/plain": [
       "(89, 7)"
      ]
     },
     "execution_count": 10,
     "metadata": {},
     "output_type": "execute_result"
    }
   ],
   "source": [
    "# 8.  Get the maximum and minimum values from an array.\n",
    "\n",
    "a = np.array([15, 42, 7, 89, 34, 22])\n",
    "mx = np.max(a)\n",
    "mn = np.min(a)\n",
    "mx,mn"
   ]
  },
  {
   "cell_type": "code",
   "execution_count": 11,
   "metadata": {},
   "outputs": [
    {
     "data": {
      "text/plain": [
       "array([11, 59, 90])"
      ]
     },
     "execution_count": 11,
     "metadata": {},
     "output_type": "execute_result"
    }
   ],
   "source": [
    "# 9.  Extract the diagonal elements of a square matrix.\n",
    "\n",
    "m = np.array([[11, 23, 37], \n",
    "                [41, 59, 63], \n",
    "                [76, 81, 90]])\n",
    "n = np.diagonal(m)\n",
    "n"
   ]
  },
  {
   "cell_type": "code",
   "execution_count": 12,
   "metadata": {},
   "outputs": [
    {
     "data": {
      "text/plain": [
       "array([[1., 0., 0., 0., 0.],\n",
       "       [0., 1., 0., 0., 0.],\n",
       "       [0., 0., 1., 0., 0.],\n",
       "       [0., 0., 0., 1., 0.],\n",
       "       [0., 0., 0., 0., 1.]])"
      ]
     },
     "execution_count": 12,
     "metadata": {},
     "output_type": "execute_result"
    }
   ],
   "source": [
    "# 10. Create an identity matrix of size 5x5.\n",
    "\n",
    "l = np.identity(5)\n",
    "l\n",
    "\n",
    "# Note: we can also use eye() function to do the same."
   ]
  },
  {
   "cell_type": "code",
   "execution_count": 13,
   "metadata": {},
   "outputs": [
    {
     "data": {
      "text/plain": [
       "(array([17, 32, 34, 26, 40, 39, 23, 21, 41, 14]),\n",
       " array([ 17,  49,  83, 109, 149, 188, 211, 232, 273, 287]))"
      ]
     },
     "execution_count": 13,
     "metadata": {},
     "output_type": "execute_result"
    }
   ],
   "source": [
    "# 11. Find the cumulative sum of an array of 10 random integers.\n",
    "\n",
    "rint = np.random.randint(12,45,10)\n",
    "cs = np.cumsum(rint)\n",
    "rint,cs"
   ]
  },
  {
   "cell_type": "code",
   "execution_count": 14,
   "metadata": {},
   "outputs": [
    {
     "data": {
      "text/plain": [
       "array([ 120, 1050, 1152, 1786,  275])"
      ]
     },
     "execution_count": 14,
     "metadata": {},
     "output_type": "execute_result"
    }
   ],
   "source": [
    "# 12. Perform element-wise multiplication of two arrays.\n",
    "\n",
    "a1 = np.array([12, 42, 36, 38, 5])\n",
    "a2 = np.array([10, 25, 32, 47, 55])\n",
    "r = a1 * a2\n",
    "r"
   ]
  },
  {
   "cell_type": "code",
   "execution_count": 15,
   "metadata": {},
   "outputs": [
    {
     "data": {
      "text/plain": [
       "array([34, 12, 53, 46,  5, 16, 73, 85,  9])"
      ]
     },
     "execution_count": 15,
     "metadata": {},
     "output_type": "execute_result"
    }
   ],
   "source": [
    "# 13. Flatten a 3x3 matrix into a 1D array.\n",
    "\n",
    "b = np.array([[34, 12, 53], \n",
    "                [46, 5, 16], \n",
    "                [73, 85, 9]])\n",
    "\n",
    "f = b.flatten()\n",
    "f\n",
    "\n",
    "# Note: we can also use ravel() function to do the same."
   ]
  },
  {
   "cell_type": "code",
   "execution_count": 16,
   "metadata": {},
   "outputs": [
    {
     "data": {
      "text/plain": [
       "array([ 5.        ,  6.66666667,  8.33333333, 10.        , 11.66666667,\n",
       "       13.33333333, 15.        , 16.66666667, 18.33333333, 20.        ])"
      ]
     },
     "execution_count": 16,
     "metadata": {},
     "output_type": "execute_result"
    }
   ],
   "source": [
    "# 14. Generate an array of evenly spaced numbers between 5 and 20 (with 10 steps).\n",
    "\n",
    "d = np.linspace(5, 20, 10)\n",
    "d\n",
    "\n",
    "# Note: linspace() function creates an array of evenly spaced values over a specified range, including both start and endpoints."
   ]
  },
  {
   "cell_type": "code",
   "execution_count": 17,
   "metadata": {},
   "outputs": [
    {
     "data": {
      "text/plain": [
       "array([56.54740532, 28.12794589, -5.67535121])"
      ]
     },
     "execution_count": 17,
     "metadata": {},
     "output_type": "execute_result"
    }
   ],
   "source": [
    "# 15. Compute the eigenvalues of a 3x3 matrix.\n",
    "\n",
    "m = np.array([[42, 2, 19], \n",
    "            [21, 35, 10], \n",
    "            [18, 13, 2]])\n",
    "eigenvals = np.linalg.eigvals(m)\n",
    "eigenvals"
   ]
  },
  {
   "cell_type": "code",
   "execution_count": 18,
   "metadata": {},
   "outputs": [
    {
     "data": {
      "text/plain": [
       "array([[-0.4551503 , -0.63905138, -0.4130139 ],\n",
       "       [-0.54233108,  0.76883224, -0.54383422],\n",
       "       [-0.70619771,  0.02259037,  0.73052301]])"
      ]
     },
     "execution_count": 18,
     "metadata": {},
     "output_type": "execute_result"
    }
   ],
   "source": [
    "# 16. Compute the eigenvectors of a 3x3 matrix.\n",
    "\n",
    "m = np.array([[5, 14, 9], \n",
    "            [21, 5, 10], \n",
    "            [12, 9, 21]])\n",
    "_, eigenvecs = np.linalg.eig(m)\n",
    "eigenvecs"
   ]
  },
  {
   "cell_type": "code",
   "execution_count": 19,
   "metadata": {},
   "outputs": [
    {
     "data": {
      "text/plain": [
       "array([10, -1, 22, -1, 42, -1])"
      ]
     },
     "execution_count": 19,
     "metadata": {},
     "output_type": "execute_result"
    }
   ],
   "source": [
    "# 17. Replace all odd numbers in a NumPy array with -1.\n",
    "\n",
    "a = np.array([10, 15, 22, 13, 42, 55])\n",
    "a[a % 2 != 0] = -1\n",
    "a"
   ]
  },
  {
   "cell_type": "code",
   "execution_count": 20,
   "metadata": {},
   "outputs": [
    {
     "data": {
      "text/plain": [
       "(array([2, 4, 5], dtype=int64),)"
      ]
     },
     "execution_count": 20,
     "metadata": {},
     "output_type": "execute_result"
    }
   ],
   "source": [
    "# 18. Find indices of elements in a NumPy array that are greater than a given value.\n",
    "\n",
    "c = np.array([5, 12, 18, 7, 22, 30, 4])\n",
    "val = 13\n",
    "n = np.where(c > val)\n",
    "n"
   ]
  },
  {
   "cell_type": "code",
   "execution_count": 21,
   "metadata": {},
   "outputs": [
    {
     "data": {
      "text/plain": [
       "array([[10, 11, 12],\n",
       "       [13, 14, 15],\n",
       "       [16, 17, 18]])"
      ]
     },
     "execution_count": 21,
     "metadata": {},
     "output_type": "execute_result"
    }
   ],
   "source": [
    "# 19. Create a 3D NumPy array and access its second layer.\n",
    "\n",
    "arr = np.array([[[1, 2, 3], \n",
    "                [4, 5, 6], \n",
    "                [7, 8, 9]],\n",
    "\n",
    "                [[10, 11, 12], \n",
    "                [13, 14, 15], \n",
    "                [16, 17, 18]],\n",
    "\n",
    "                [[19, 20, 21], \n",
    "                [22, 23, 24], \n",
    "                [25, 26, 27]]])\n",
    "\n",
    "s = arr[1]\n",
    "s"
   ]
  },
  {
   "cell_type": "code",
   "execution_count": 22,
   "metadata": {},
   "outputs": [
    {
     "name": "stdout",
     "output_type": "stream",
     "text": [
      "[[45 65 23]\n",
      " [23 45 67]\n",
      " [11 33 55]\n",
      " [12 45 76]\n",
      " [32 54 65]\n",
      " [98 34 16]]\n",
      "[[45 65 23 12 45 76]\n",
      " [23 45 67 32 54 65]\n",
      " [11 33 55 98 34 16]]\n"
     ]
    }
   ],
   "source": [
    "# 20. Concatenate 2D array horizontally and vertically.\n",
    "\n",
    "g=np.array([[45,65,23],[23,45,67],[11,33,55]])\n",
    "h=np.array([[12,45,76],[32,54,65],[98,34,16]])\n",
    "\n",
    "print(np.vstack((g,h)))\n",
    "print(np.hstack((g,h)))"
   ]
  }
 ],
 "metadata": {
  "kernelspec": {
   "display_name": "Python 3",
   "language": "python",
   "name": "python3"
  },
  "language_info": {
   "codemirror_mode": {
    "name": "ipython",
    "version": 3
   },
   "file_extension": ".py",
   "mimetype": "text/x-python",
   "name": "python",
   "nbconvert_exporter": "python",
   "pygments_lexer": "ipython3",
   "version": "3.8.3"
  }
 },
 "nbformat": 4,
 "nbformat_minor": 4
}
